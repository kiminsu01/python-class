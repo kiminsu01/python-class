{
 "cells": [
  {
   "cell_type": "markdown",
   "metadata": {},
   "source": [
    "### 문제 1\n",
    "\n",
    "정삼각형 클래스를 만들어, 한 변의 길이(length)에 따라 둘레(perimeter)를 출력하는 프로그램을 작성해 보시오.\n",
    "\n",
    "![](https://i.imgur.com/AB0heGN.png)\n",
    "\n",
    "(힌트 : 8강 객체와 클래스 / Chapter 3 클래스의 정의)\n",
    "\n",
    "**[답안 1]** 아래의 코드의 ? 를 올바르게 수정하고, 실행하십시오.\n"
   ]
  },
  {
   "cell_type": "code",
   "execution_count": 52,
   "metadata": {},
   "outputs": [
    {
     "name": "stdout",
     "output_type": "stream",
     "text": [
      "한 변의 길이가  1 인 정삼각형의 둘레는  3 입니다.\n",
      "한 변의 길이가  10 인 정삼각형의 둘레는  30 입니다.\n",
      "한 변의 길이가  25 인 정삼각형의 둘레는  75 입니다.\n"
     ]
    }
   ],
   "source": [
    "import math\n",
    "\n",
    "class Triangle:\n",
    "    def __init__(self,  l = 1):\n",
    "        self.length = l     # length는 한 변의 길이를 저장하는 변수 입니다.\n",
    "        \n",
    "    def setLength(self, l):\n",
    "        self.length = l\n",
    "        \n",
    "    def getLength(self):\n",
    "        return self.length      # ? 부분을 작성해주세요. 정삼각형의 한 변의 길이를 반환해야 합니다.\n",
    "    \n",
    "    def getPerimeter(self):\n",
    "        return self.length *3      # ? 부분을 작성해주세요. 정삼각형의 둘레의 길이는 한변의 길이 * 3 입니다.\n",
    "    \n",
    "triangle1 = Triangle()\n",
    "print('한 변의 길이가 ', triangle1.getLength(), \"인 정삼각형의 둘레는 \",\n",
    "      triangle1.getPerimeter(), \"입니다.\")\n",
    "triangle2 = Triangle(10)\n",
    "print('한 변의 길이가 ', triangle2.getLength(), \"인 정삼각형의 둘레는 \",\n",
    "      triangle2.getPerimeter(), \"입니다.\")\n",
    "triangle3 = Triangle(25)\n",
    "print('한 변의 길이가 ', triangle3.getLength(), \"인 정삼각형의 둘레는 \",\n",
    "      triangle3.getPerimeter(), \"입니다.\")"
   ]
  },
  {
   "cell_type": "markdown",
   "metadata": {
    "jp-MarkdownHeadingCollapsed": true,
    "tags": []
   },
   "source": [
    "### 문제 2 (단답형)\n",
    "\n",
    "다음 코드를 실행했을 때 출력 값은 다음 보기 중 무엇인가? \n",
    "\n",
    "```python\n",
    "class My_class():\n",
    "    def __init__(self, num):\n",
    "        self.num = num + 100\n",
    "\n",
    "    def my_func(self):\n",
    "        return self.num * 2;\n",
    "    \n",
    "x = My_class(100)\n",
    "\n",
    "x2 = x.my_func()\n",
    "\n",
    "print(x2)\n",
    "```\n",
    "\n",
    "(힌트 8강 클래스 정의, 객체 생성, self 매개변수, 객체 지향적 객체 사용)\n",
    "\n",
    "### 보기 정답 400\n",
    "\n",
    "### ① 100\n",
    "### ② 200\n",
    "### ③ 400\n",
    "### ④ 800"
   ]
  },
  {
   "cell_type": "markdown",
   "metadata": {},
   "source": [
    "**[답안 2]**\n",
    "\n",
    "이 부분을 더블 클릭하여 1~4 중 하나를 골라 적어주세요."
   ]
  },
  {
   "cell_type": "markdown",
   "metadata": {},
   "source": [
    "### 문제 3\n",
    "\n",
    "임의의 숫자 100개가 들어있는 리스트 arr이 주어졌을 때, 원소의 개수, 가장 작은 원소, 모든 원소의 합을 구하시오.\n",
    "\n",
    "(힌트 : 9강 리스트 / Chapter 2 리스트 조작)\n",
    "\n",
    "**[답안 3]** 아래의 코드의 ? 를 올바르게 수정하고, 실행하십시오."
   ]
  },
  {
   "cell_type": "code",
   "execution_count": 29,
   "metadata": {},
   "outputs": [
    {
     "name": "stdout",
     "output_type": "stream",
     "text": [
      "리스트 [8269, 3155, 4554, 1331, 2302, 3815, 6951, 8241, 6897, 1617, 4293, 561, 8981, 4970, 6866, 3578, 6369, 5691, 4772, 7739, 4287, 1450, 3555, 5969, 3975, 8925, 1334, 67, 8450, 2667, 7172, 2520, 8682, 2800, 4499, 8120, 194, 2812, 3673, 451, 3327, 4858, 4903, 4418, 1826, 7050, 4592, 7263, 6667, 984, 5449, 4765, 3340, 6772, 7256, 5012, 9121, 4815, 1336, 3973, 2200, 8648, 4272, 8946, 2191, 5692, 8121, 4152, 915, 869, 333, 6134, 4349, 3591, 4307, 2682, 4672, 902, 7946, 5992, 6665, 4114, 2223, 716, 5799, 9794, 3403, 3512, 9337, 8355, 5188, 9983, 2857, 5961, 8318, 4414, 3548, 6874, 9427, 8911]\n",
      "원소의 개수 : [8269, 3155, 4554, 1331, 2302, 3815, 6951, 8241, 6897, 1617, 4293, 561, 8981, 4970, 6866, 3578, 6369, 5691, 4772, 7739, 4287, 1450, 3555, 5969, 3975, 8925, 1334, 67, 8450, 2667, 7172, 2520, 8682, 2800, 4499, 8120, 194, 2812, 3673, 451, 3327, 4858, 4903, 4418, 1826, 7050, 4592, 7263, 6667, 984, 5449, 4765, 3340, 6772, 7256, 5012, 9121, 4815, 1336, 3973, 2200, 8648, 4272, 8946, 2191, 5692, 8121, 4152, 915, 869, 333, 6134, 4349, 3591, 4307, 2682, 4672, 902, 7946, 5992, 6665, 4114, 2223, 716, 5799, 9794, 3403, 3512, 9337, 8355, 5188, 9983, 2857, 5961, 8318, 4414, 3548, 6874, 9427, 8911], 가장 작은 원소 : 67, 모든 원소의 합 : 486594\n"
     ]
    }
   ],
   "source": [
    "import random\n",
    "\n",
    "arr = [random.randint(0,10000) for _ in range(100)] \n",
    "# 숫자 100개가 들어간 리스트 arr을 생성합니다.\n",
    "\n",
    "count = arr                  # ? 부분을 작성해주세요.\n",
    "min_value = min(arr)              # ? 부분을 작성해주세요.\n",
    "sum_values = sum(arr)             # ? 부분을 작성해주세요.\n",
    "\n",
    "print(\"리스트\", arr)\n",
    "print(\"원소의 개수 : {0}, 가장 작은 원소 : {1}, 모든 원소의 합 : {2}\".format(\n",
    "    count, min_value, sum_values))"
   ]
  },
  {
   "cell_type": "markdown",
   "metadata": {},
   "source": [
    "### 문제 4\n",
    "\n",
    "도시의 거리표를 참고하여 모든 두 도시 사이의 거리를 출력하는 프로그램을 작성하려고 합니다. 다음의 코드를 채워 프로그램을 완성하시오.\n",
    "\n",
    "(힌트 : 10강 다차원 리스트 / 실습)\n",
    "\n",
    "**[답안 4]** 10강의 실습을 참고하여, 아래의 코드의 ? 를 올바르게 수정하고, 실행하십시오."
   ]
  },
  {
   "cell_type": "code",
   "execution_count": null,
   "metadata": {},
   "outputs": [
    {
     "name": "stdin",
     "output_type": "stream",
     "text": [
      " 서울\n",
      " 대전\n"
     ]
    },
    {
     "name": "stdout",
     "output_type": "stream",
     "text": [
      "서울와/과 대전 사이의 거리는 km입니다.\n"
     ]
    },
    {
     "name": "stdin",
     "output_type": "stream",
     "text": [
      " dd\n",
      " gg\n"
     ]
    },
    {
     "name": "stdout",
     "output_type": "stream",
     "text": [
      "서울와/과 광주 사이의 거리는 km입니다.\n"
     ]
    },
    {
     "name": "stdin",
     "output_type": "stream",
     "text": [
      " 0\n",
      " 151\n"
     ]
    },
    {
     "name": "stdout",
     "output_type": "stream",
     "text": [
      "서울와/과 대구 사이의 거리는 km입니다.\n"
     ]
    },
    {
     "name": "stdin",
     "output_type": "stream",
     "text": [
      " 0\n",
      " 151\n"
     ]
    },
    {
     "name": "stdout",
     "output_type": "stream",
     "text": [
      "서울와/과 울산 사이의 거리는 km입니다.\n"
     ]
    }
   ],
   "source": [
    "distances =[\n",
    "    [0, 151, 290, 282, 396, 210, 320, 390],\n",
    "    [151, 0, 178, 148, 259, 90, 235, 260],\n",
    "    [290, 178, 0, 219, 327, 105, 93, 267],\n",
    "    [282, 148, 219, 0, 87, 198, 218, 130],\n",
    "    [396, 259, 327, 87, 0, 308, 199, 65],\n",
    "    [210, 90, 105, 198, 308, 0, 141, 265],\n",
    "    [320, 235, 93, 218, 199, 141, 0, 199],\n",
    "    [390, 260, 267, 130, 65, 265, 199, 0]    \n",
    "]\n",
    "cities = ['서울', '대전', '광주', '대구', '울산', '전주', '순천', '부산']\n",
    "\n",
    "for dept in cities[0:-1]:\n",
    "    for dest in cities[1:]:\n",
    "        if dept == dest:\n",
    "            continue\n",
    "        dept_index = map.i(int, input())   # ? 부분을 작성해주세요.\n",
    "        dest_index = map.j(int, input())   # ? 부분을 작성해주세요.\n",
    "        map[i][j]\n",
    "        print(dept+\"와/과\", dest, \"사이의 거리는\", \"km입니다.\")  # ? 부분을 작성해주세요."
   ]
  },
  {
   "cell_type": "code",
   "execution_count": null,
   "metadata": {},
   "outputs": [],
   "source": []
  },
  {
   "cell_type": "code",
   "execution_count": null,
   "metadata": {},
   "outputs": [],
   "source": []
  }
 ],
 "metadata": {
  "interpreter": {
   "hash": "e3208cdcdcf0c1a8f5b198f670c592c7884d1743e97e56a50f648e6b717f89b3"
  },
  "kernelspec": {
   "display_name": "Python 3 (ipykernel)",
   "language": "python",
   "name": "python3"
  },
  "language_info": {
   "codemirror_mode": {
    "name": "ipython",
    "version": 3
   },
   "file_extension": ".py",
   "mimetype": "text/x-python",
   "name": "python",
   "nbconvert_exporter": "python",
   "pygments_lexer": "ipython3",
   "version": "3.9.12"
  }
 },
 "nbformat": 4,
 "nbformat_minor": 4
}
